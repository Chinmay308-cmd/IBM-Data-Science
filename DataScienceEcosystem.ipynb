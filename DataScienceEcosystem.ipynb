{
 "cells": [
  {
   "cell_type": "markdown",
   "id": "b0d984c1",
   "metadata": {},
   "source": [
    "# Data Science Tools And Ecosystem"
   ]
  },
  {
   "cell_type": "markdown",
   "id": "f6008cfd",
   "metadata": {},
   "source": [
    "In this notebook, Data Science Tools and Ecosystem are summarized"
   ]
  },
  {
   "cell_type": "markdown",
   "id": "c1d990a9",
   "metadata": {},
   "source": [
    "Some of the popular languages that are used by Data Sciencetists are\n",
    "1. Python \n",
    "2. R\n",
    "3. SQL\n",
    "4. Java\n",
    "5. C/C++"
   ]
  },
  {
   "cell_type": "markdown",
   "id": "430bec46",
   "metadata": {},
   "source": [
    "Some of the commonly used libraries used by Data Scientists are:\n",
    "\n",
    "    1. TensorFlow.\n",
    "    2. NumPy.\n",
    "    3. SciPy.\n",
    "    4. Pandas.\n",
    "    5. Scikit-Learn.\n",
    "    6. PyTorch.\n",
    "    7. Matplotlib."
   ]
  },
  {
   "cell_type": "markdown",
   "id": "4e6642ee",
   "metadata": {},
   "source": [
    "|Data Science Tools|\n",
    "|---|\n",
    "|SAS|\n",
    "|Apache Hadoop|\n",
    "|TensorFLow|\n",
    "|Jupyter Notebook|"
   ]
  },
  {
   "cell_type": "markdown",
   "id": "f824b16b",
   "metadata": {},
   "source": [
    "### Below are few examples of evaluating arithmetic expressions in Python."
   ]
  },
  {
   "cell_type": "code",
   "execution_count": 3,
   "id": "58004e43",
   "metadata": {},
   "outputs": [
    {
     "data": {
      "text/plain": [
       "17"
      ]
     },
     "execution_count": 3,
     "metadata": {},
     "output_type": "execute_result"
    }
   ],
   "source": [
    "#This is the common arithmetic expression to multiply and then addition\n",
    "(3*4)+5"
   ]
  },
  {
   "cell_type": "code",
   "execution_count": 4,
   "id": "01e9061e",
   "metadata": {},
   "outputs": [
    {
     "data": {
      "text/plain": [
       "3.3333333333333335"
      ]
     },
     "execution_count": 4,
     "metadata": {},
     "output_type": "execute_result"
    }
   ],
   "source": [
    "#This will convert 200 minutes to hours by diving by 60.\n",
    "200/60"
   ]
  },
  {
   "cell_type": "markdown",
   "id": "c90eaa08",
   "metadata": {},
   "source": [
    "__Objectives:__\n",
    "* List of popular languages for Data Science\n",
    "* Creation of markdown cell\n",
    "* List of popular libraries for Data Science\n",
    "* List of well known Data Science Tools"
   ]
  },
  {
   "cell_type": "markdown",
   "id": "37b02bc4",
   "metadata": {},
   "source": [
    "## Author\n",
    "Chinmay Gedam"
   ]
  },
  {
   "cell_type": "code",
   "execution_count": null,
   "id": "72c375f9",
   "metadata": {},
   "outputs": [],
   "source": []
  }
 ],
 "metadata": {
  "kernelspec": {
   "display_name": "Python 3 (ipykernel)",
   "language": "python",
   "name": "python3"
  },
  "language_info": {
   "codemirror_mode": {
    "name": "ipython",
    "version": 3
   },
   "file_extension": ".py",
   "mimetype": "text/x-python",
   "name": "python",
   "nbconvert_exporter": "python",
   "pygments_lexer": "ipython3",
   "version": "3.11.5"
  }
 },
 "nbformat": 4,
 "nbformat_minor": 5
}
